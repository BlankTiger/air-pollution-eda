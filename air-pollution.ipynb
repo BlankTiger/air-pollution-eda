{
 "cells": [
  {
   "cell_type": "code",
   "execution_count": null,
   "id": "b72a64ae",
   "metadata": {},
   "outputs": [],
   "source": [
    "import pandas as pd\n",
    "\n",
    "data = pd.read_csv(\"data/air_pollution_data.csv\")"
   ]
  },
  {
   "cell_type": "code",
   "execution_count": null,
   "id": "fac8efef",
   "metadata": {},
   "outputs": [],
   "source": [
    "data.head()"
   ]
  },
  {
   "cell_type": "code",
   "execution_count": null,
   "id": "24ade010",
   "metadata": {},
   "outputs": [],
   "source": [
    "data"
   ]
  },
  {
   "cell_type": "code",
   "execution_count": null,
   "id": "a75ceb9d",
   "metadata": {},
   "outputs": [],
   "source": [
    "data.info()"
   ]
  },
  {
   "cell_type": "code",
   "execution_count": null,
   "id": "775530a8",
   "metadata": {},
   "outputs": [],
   "source": [
    "data.describe()"
   ]
  },
  {
   "cell_type": "code",
   "execution_count": null,
   "id": "478a9d45",
   "metadata": {},
   "outputs": [],
   "source": [
    "data.isna().sum()"
   ]
  },
  {
   "cell_type": "code",
   "execution_count": null,
   "id": "84a62dcc",
   "metadata": {},
   "outputs": [],
   "source": [
    "data.nunique()"
   ]
  },
  {
   "cell_type": "code",
   "execution_count": null,
   "id": "6788a098",
   "metadata": {},
   "outputs": [],
   "source": [
    "data[\"city_name\"].unique()"
   ]
  },
  {
   "cell_type": "code",
   "execution_count": null,
   "id": "b53386a9",
   "metadata": {},
   "outputs": [],
   "source": [
    "data = data.drop_duplicates()"
   ]
  },
  {
   "cell_type": "code",
   "execution_count": null,
   "id": "8f13150e",
   "metadata": {},
   "outputs": [],
   "source": [
    "data = data.dropna(subset=\"country_name\")"
   ]
  },
  {
   "cell_type": "code",
   "execution_count": null,
   "id": "be89164e",
   "metadata": {},
   "outputs": [],
   "source": [
    "data.isna().sum()"
   ]
  },
  {
   "cell_type": "code",
   "execution_count": null,
   "id": "10b9fe7c",
   "metadata": {},
   "outputs": [],
   "source": []
  },
  {
   "cell_type": "code",
   "execution_count": null,
   "id": "14b6ebb4",
   "metadata": {},
   "outputs": [],
   "source": [
    "import matplotlib_inline\n",
    "from matplotlib import pyplot as plt"
   ]
  },
  {
   "cell_type": "code",
   "execution_count": null,
   "id": "0f10e8ae",
   "metadata": {},
   "outputs": [],
   "source": [
    "data[\"aqi_value\"].unique()"
   ]
  },
  {
   "cell_type": "code",
   "execution_count": null,
   "id": "a5d68873",
   "metadata": {},
   "outputs": [],
   "source": [
    "def create_hist(data: list[float], bins: int) -> None:\n",
    "    plt.rcParams.update({\"font.size\": 8})\n",
    "    plt.figure(figsize=(4, 3))\n",
    "    plt.hist(data, bins=bins)\n",
    "    plt.show()"
   ]
  },
  {
   "cell_type": "code",
   "execution_count": null,
   "id": "2b6c5460",
   "metadata": {},
   "outputs": [],
   "source": [
    "create_hist(data[\"aqi_value\"], 50)"
   ]
  },
  {
   "cell_type": "code",
   "execution_count": null,
   "id": "4a6e45f1",
   "metadata": {},
   "outputs": [],
   "source": [
    "data.info()"
   ]
  },
  {
   "cell_type": "code",
   "execution_count": null,
   "id": "2e92699e",
   "metadata": {},
   "outputs": [],
   "source": [
    "data.dtypes"
   ]
  },
  {
   "cell_type": "code",
   "execution_count": null,
   "id": "88062db1",
   "metadata": {},
   "outputs": [],
   "source": [
    "data[\"city_name\"] = data[\"city_name\"].astype(pd.StringDtype())"
   ]
  },
  {
   "cell_type": "code",
   "execution_count": null,
   "id": "b9b84022",
   "metadata": {},
   "outputs": [],
   "source": [
    "data.loc[data[\"country_name\"] == \"Germany\"][\"city_name\"].unique()"
   ]
  },
  {
   "cell_type": "code",
   "execution_count": null,
   "id": "4cd1d5a6",
   "metadata": {},
   "outputs": [],
   "source": [
    "plt.scatter(data[\"aqi_value\"], data[\"pm2.5_aqi_value\"])"
   ]
  },
  {
   "cell_type": "markdown",
   "id": "a42ef6ce",
   "metadata": {},
   "source": [
    "# Próba zastosowania geodatasets i geopandas do utworzenia mapki\n",
    "\n",
    "# %%\n",
    "import geodatasets\n",
    "import geopandas as gpd\n",
    "\n",
    "g_data = gpd.read_file(\"data/world-administrative-boundaries.zip\")\n",
    "locations = gpd.tools.geocode(g_data[\"name\"])\n",
    "\n",
    "# %%\n",
    "locations\n",
    "\n",
    "# %%\n",
    "fig, ax = plt.subplots()\n",
    "g_data.to_crs(\"EPSG:4326\").plot(ax=ax, color=\"white\", edgecolor=\"black\")\n",
    "locations.plot(ax=ax, color=\"red\")"
   ]
  },
  {
   "cell_type": "markdown",
   "id": "e47520fb",
   "metadata": {},
   "source": [
    "# Zbudowanie średniej wartości aqi_value dla poszczególnych państw"
   ]
  },
  {
   "cell_type": "code",
   "execution_count": null,
   "id": "aba8f5b7",
   "metadata": {},
   "outputs": [],
   "source": [
    "from collections import defaultdict\n",
    "\n",
    "import numpy as np\n",
    "\n",
    "values_per_country = defaultdict(list)\n",
    "for country, aqi in zip(data[\"country_name\"], data[\"aqi_value\"]):\n",
    "    values_per_country[country].append(aqi)\n",
    "\n",
    "avg_per_country = {country: np.mean(values) for country, values in values_per_country.items()}"
   ]
  },
  {
   "cell_type": "markdown",
   "id": "4cff09d8",
   "metadata": {},
   "source": [
    "## Dane w dataframe posortowane wg. aqi_value ASC"
   ]
  },
  {
   "cell_type": "code",
   "execution_count": null,
   "id": "43679b3d",
   "metadata": {},
   "outputs": [],
   "source": [
    "avg_per_country_df = (\n",
    "    pd.DataFrame([avg_per_country.keys(), avg_per_country.values()])\n",
    "    .transpose()\n",
    "    .rename(columns={0: \"country_name\", 1: \"aqi_value\"})\n",
    "    .sort_values(by=\"aqi_value\", ascending=False)\n",
    "    .reset_index(drop=True)\n",
    ")\n",
    "avg_per_country_df.head(n=15)"
   ]
  },
  {
   "cell_type": "markdown",
   "id": "8037da2d",
   "metadata": {},
   "source": [
    "## Barplot top 15 średnich"
   ]
  },
  {
   "cell_type": "code",
   "execution_count": null,
   "id": "046f810c",
   "metadata": {},
   "outputs": [],
   "source": [
    "# %matplotlib inline\n",
    "\n",
    "import seaborn as sns\n",
    "\n",
    "top_15 = avg_per_country_df[:15]\n",
    "plt.rcParams[\"figure.figsize\"] = [10, 5]\n",
    "\n",
    "plt.xticks(rotation=75)\n",
    "sns.barplot(\n",
    "    x=top_15[\"country_name\"],\n",
    "    y=top_15[\"aqi_value\"],\n",
    "    palette=sns.cubehelix_palette(len(top_15)),\n",
    "    hue=top_15[\"aqi_value\"],\n",
    "    legend=False,\n",
    ")\n",
    "plt.show()\n",
    "\n",
    "# # %% [markdown]\n",
    "# # ## Mapka średnich wartości aqi_value per państwo\n",
    "# #\n",
    "# # Dla państw bez danych przyjęto wartość 0, która realnie nie jest osiągalna.\n",
    "#\n",
    "# # %%\n",
    "# g_data[\"aqi_values\"] = pd.Series(\n",
    "#     [avg_per_country.get(country_name, 0) for country_name in g_data[\"name\"]]\n",
    "# )\n",
    "# g_data.explore(column=\"aqi_values\")"
   ]
  },
  {
   "cell_type": "markdown",
   "id": "49061b55",
   "metadata": {},
   "source": [
    "## Próba dedukcji wysokiego poziomu aqi_value w Korei Południowej"
   ]
  },
  {
   "cell_type": "code",
   "execution_count": null,
   "id": "97c4d223",
   "metadata": {},
   "outputs": [],
   "source": [
    "values_per_country[\"Republic of Korea\"]"
   ]
  },
  {
   "cell_type": "code",
   "execution_count": null,
   "id": "65d34bf4",
   "metadata": {},
   "outputs": [],
   "source": [
    "data[data[\"country_name\"] == \"Republic of Korea\"]"
   ]
  },
  {
   "cell_type": "code",
   "execution_count": null,
   "id": "a81b4ad6",
   "metadata": {},
   "outputs": [],
   "source": [
    "data[data[\"country_name\"] == \"Poland\"].max()"
   ]
  },
  {
   "cell_type": "markdown",
   "id": "fd46d8ae",
   "metadata": {},
   "source": [
    "## Model pomysły\n",
    "\n",
    "- estymacja jednego parametru pod wpływem innych parametrów jakości powietrza\n",
    "- estymacja wielu parametrów jakości powietrza pod wpływem jednego/wielu\n",
    "- propozycje lokalizacji pod wpływem parametrów\n",
    "- kategoria aqi_category w zależności od parametrów\n",
    "\n",
    "Wybrany model: estymacja jednego parametru pod wpływem innych parametrów jakości powietrza\n",
    "\n",
    "## Klasteryzacja\n",
    "\n",
    "t-SNE zrobić po subsetcie fit, a po całości transform przynajmniej jedna osoba powinna zrobić\n",
    "\n",
    "##\n"
   ]
  },
  {
   "cell_type": "markdown",
   "id": "d0e69e59",
   "metadata": {},
   "source": [
    "## Korelacje"
   ]
  },
  {
   "cell_type": "code",
   "execution_count": null,
   "id": "1fbcb390",
   "metadata": {},
   "outputs": [],
   "source": [
    "for_corr = data[\n",
    "    [\n",
    "        \"aqi_value\",\n",
    "        \"co_aqi_value\\t\",\n",
    "        \"ozone_aqi_value\",\n",
    "        \"no2_aqi_value\",\n",
    "        \"pm2.5_aqi_value\",\n",
    "    ]\n",
    "]\n",
    "corr = for_corr.corr()\n",
    "corr.style.background_gradient(cmap=\"coolwarm\")"
   ]
  },
  {
   "cell_type": "markdown",
   "id": "147eb292",
   "metadata": {},
   "source": [
    "## Przygotowanie do tworzenia modelu"
   ]
  },
  {
   "cell_type": "code",
   "execution_count": null,
   "id": "7ba2c534",
   "metadata": {},
   "outputs": [],
   "source": [
    "X = np.array(\n",
    "    [\n",
    "        data[\"co_aqi_value\\t\"],\n",
    "        data[\"ozone_aqi_value\"],\n",
    "        data[\"no2_aqi_value\"],\n",
    "        data[\"pm2.5_aqi_value\"],\n",
    "    ]\n",
    ").T\n",
    "Y = np.array(data[\"aqi_value\"]).T"
   ]
  },
  {
   "cell_type": "markdown",
   "id": "882fbc28",
   "metadata": {},
   "source": [
    "## TSNE"
   ]
  },
  {
   "cell_type": "code",
   "execution_count": null,
   "id": "0d23a852",
   "metadata": {
    "lines_to_next_cell": 0
   },
   "outputs": [],
   "source": [
    "from sklearn.decomposition import PCA\n",
    "from sklearn.manifold import TSNE\n",
    "\n",
    "# tsne = TSNE(n_components=2, learning_rate=\"auto\", init=\"random\")\n",
    "#\n",
    "# # %%\n",
    "# X_embedded = tsne.fit_transform(X)\n",
    "# X_embedded.shape\n",
    "#\n",
    "# # %%\n",
    "# X_embedded\n",
    "#\n",
    "# # %%\n",
    "# plt.scatter(X_embedded[:, 0], X_embedded[:, 1])\n",
    "# plt.show()\n",
    "#\n",
    "# # %%\n",
    "# tsne = TSNE(n_components=3, learning_rate=\"auto\", init=\"random\")\n",
    "#\n",
    "# X3_embedded = tsne.fit_transform(X)\n",
    "# X3_embedded.shape\n",
    "#\n",
    "# # %%\n",
    "# # %matplotlib widget\n",
    "#\n",
    "# fig = plt.figure()\n",
    "# ax = fig.add_subplot(projection=\"3d\")\n",
    "# ax.scatter(X3_embedded[:, 0], X3_embedded[:, 1], X3_embedded[:, 2], s=3)\n",
    "# plt.show()\n",
    "#\n",
    "# # %%\n",
    "# import plotly\n",
    "# import plotly.graph_objs as go\n",
    "#\n",
    "# plotly.offline.init_notebook_mode()\n",
    "#\n",
    "# trace = go.Scatter3d(\n",
    "#     x=X3_embedded[:, 0],\n",
    "#     y=X3_embedded[:, 1],\n",
    "#     z=X3_embedded[:, 2],\n",
    "#     mode=\"markers\",\n",
    "#     marker={\n",
    "#         \"size\": 10,\n",
    "#         \"opacity\": 0.8,\n",
    "#     },\n",
    "# )\n",
    "#\n",
    "# layout = go.Layout(margin={\"l\": 0, \"r\": 0, \"b\": 0, \"t\": 0})\n",
    "#\n",
    "# _data = [trace]\n",
    "# plot_figure = go.Figure(data=_data, layout=layout)\n",
    "#\n",
    "# plotly.offline.iplot(plot_figure)\n",
    "#"
   ]
  },
  {
   "cell_type": "markdown",
   "id": "75db6912",
   "metadata": {},
   "source": [
    "## PCA"
   ]
  },
  {
   "cell_type": "code",
   "execution_count": null,
   "id": "729558a9",
   "metadata": {},
   "outputs": [],
   "source": [
    "pca = PCA(n_components=\"mle\")\n",
    "pca.fit(X)"
   ]
  },
  {
   "cell_type": "code",
   "execution_count": null,
   "id": "e892e627",
   "metadata": {},
   "outputs": [],
   "source": [
    "pca.explained_variance_ratio_"
   ]
  },
  {
   "cell_type": "code",
   "execution_count": null,
   "id": "4f2d4bd5",
   "metadata": {},
   "outputs": [],
   "source": [
    "pca.explained_variance_"
   ]
  },
  {
   "cell_type": "code",
   "execution_count": null,
   "id": "df39dbbe",
   "metadata": {},
   "outputs": [],
   "source": [
    "pca.singular_values_"
   ]
  },
  {
   "cell_type": "code",
   "execution_count": null,
   "id": "93f6e703",
   "metadata": {},
   "outputs": [],
   "source": [
    "pca.components_"
   ]
  },
  {
   "cell_type": "code",
   "execution_count": null,
   "id": "25e5d399",
   "metadata": {},
   "outputs": [],
   "source": [
    "X_fitted = pca.fit_transform(X)\n",
    "\n",
    "X_fitted"
   ]
  },
  {
   "cell_type": "code",
   "execution_count": null,
   "id": "c5617d22",
   "metadata": {},
   "outputs": [],
   "source": [
    "X_fitted.shape"
   ]
  },
  {
   "cell_type": "code",
   "execution_count": null,
   "id": "8b3eb49d",
   "metadata": {},
   "outputs": [],
   "source": [
    "# %matplotlib widget\n",
    "\n",
    "fig = plt.figure()\n",
    "ax = fig.add_subplot(projection=\"3d\")\n",
    "ax.scatter(X[:, 0], X[:, 1], X[:, 2], s=3)\n",
    "plt.show()"
   ]
  },
  {
   "cell_type": "markdown",
   "id": "75826dd5",
   "metadata": {},
   "source": [
    "# Rozdział na zbiór treningowy i testowy"
   ]
  },
  {
   "cell_type": "code",
   "execution_count": null,
   "id": "6aeb6676",
   "metadata": {},
   "outputs": [],
   "source": [
    "from sklearn.model_selection import train_test_split\n",
    "\n",
    "random_state = 42\n",
    "X_train, X_test, y_train, y_test = train_test_split(X, Y.T, test_size=0.2, random_state=42)"
   ]
  },
  {
   "cell_type": "code",
   "execution_count": null,
   "id": "122d1f71",
   "metadata": {},
   "outputs": [],
   "source": [
    "from sklearn.neighbors import KNeighborsRegressor\n",
    "\n",
    "knr = KNeighborsRegressor(n_neighbors=5)\n",
    "knr.fit(X_train, y_train)"
   ]
  },
  {
   "cell_type": "code",
   "execution_count": null,
   "id": "2eb737dd",
   "metadata": {},
   "outputs": [],
   "source": [
    "from sklearn.metrics import mean_squared_error\n",
    "\n",
    "y_pred = knr.predict(X_test)\n",
    "mean_squared_error(y_test, y_pred)"
   ]
  },
  {
   "cell_type": "code",
   "execution_count": null,
   "id": "388e95e6",
   "metadata": {},
   "outputs": [],
   "source": [
    "from sklearn.metrics import r2_score\n",
    "\n",
    "r2_score(y_test, y_pred)"
   ]
  },
  {
   "cell_type": "code",
   "execution_count": null,
   "id": "4b02dd24",
   "metadata": {},
   "outputs": [],
   "source": [
    "y_test"
   ]
  },
  {
   "cell_type": "code",
   "execution_count": null,
   "id": "e4dda543",
   "metadata": {},
   "outputs": [],
   "source": [
    "y_pred"
   ]
  },
  {
   "cell_type": "code",
   "execution_count": null,
   "id": "b81bf4ae",
   "metadata": {},
   "outputs": [],
   "source": [
    "differences = np.argmax([pred - test for pred, test in zip(y_pred, y_test)])\n",
    "differences"
   ]
  },
  {
   "cell_type": "code",
   "execution_count": null,
   "id": "7065ebd2",
   "metadata": {},
   "outputs": [],
   "source": [
    "y_pred[2241]"
   ]
  },
  {
   "cell_type": "code",
   "execution_count": null,
   "id": "ff02c579",
   "metadata": {},
   "outputs": [],
   "source": [
    "X_test[2241]"
   ]
  },
  {
   "cell_type": "code",
   "execution_count": null,
   "id": "d31855b0",
   "metadata": {},
   "outputs": [],
   "source": [
    "data[data[\"pm2.5_aqi_value\"] == 319]"
   ]
  },
  {
   "cell_type": "code",
   "execution_count": null,
   "id": "c83ea0a2",
   "metadata": {},
   "outputs": [],
   "source": [
    "data[data[\"aqi_category\"] == \"Hazardous\"][data[\"country_name\"] == \"India\"]"
   ]
  },
  {
   "cell_type": "code",
   "execution_count": null,
   "id": "92875969",
   "metadata": {},
   "outputs": [],
   "source": [
    "from sklearn.tree import DecisionTreeRegressor\n",
    "\n",
    "decision_tree = DecisionTreeRegressor()\n",
    "decision_tree.fit(X_train, y_train)"
   ]
  },
  {
   "cell_type": "code",
   "execution_count": null,
   "id": "97f65f95",
   "metadata": {},
   "outputs": [],
   "source": [
    "y_pred = decision_tree.predict(X_test)\n",
    "mean_squared_error(y_test, y_pred)"
   ]
  },
  {
   "cell_type": "code",
   "execution_count": null,
   "id": "ad946fa9",
   "metadata": {},
   "outputs": [],
   "source": [
    "r2_score(y_test, y_pred)"
   ]
  },
  {
   "cell_type": "code",
   "execution_count": null,
   "id": "ced1af1f",
   "metadata": {
    "lines_to_next_cell": 2
   },
   "outputs": [],
   "source": [
    "differences = np.argmax([pred - test for pred, test in zip(y_pred, y_test)])\n",
    "differences"
   ]
  },
  {
   "cell_type": "code",
   "execution_count": null,
   "id": "49357907",
   "metadata": {},
   "outputs": [],
   "source": [
    "from sklearn.linear_model import Lasso\n",
    "\n",
    "lasso = Lasso(alpha=300)\n",
    "lasso.fit(X_train, y_train)"
   ]
  },
  {
   "cell_type": "code",
   "execution_count": null,
   "id": "42269b5b",
   "metadata": {},
   "outputs": [],
   "source": [
    "y_pred = lasso.predict(X_test)\n",
    "mean_squared_error(y_test, y_pred)"
   ]
  },
  {
   "cell_type": "code",
   "execution_count": null,
   "id": "18d0d0f8",
   "metadata": {},
   "outputs": [],
   "source": [
    "r2_score(y_test, y_pred)"
   ]
  },
  {
   "cell_type": "code",
   "execution_count": null,
   "id": "744b8d7b",
   "metadata": {},
   "outputs": [],
   "source": [
    "differences = np.argmax([pred - test for pred, test in zip(y_pred, y_test)])\n",
    "differences"
   ]
  },
  {
   "cell_type": "code",
   "execution_count": null,
   "id": "423b6ba6",
   "metadata": {},
   "outputs": [],
   "source": [
    "from sklearn.ensemble import RandomForestRegressor\n",
    "\n",
    "random_forest = RandomForestRegressor()\n",
    "random_forest.fit(X_train, y_train)"
   ]
  },
  {
   "cell_type": "code",
   "execution_count": null,
   "id": "4f5c1aa7",
   "metadata": {},
   "outputs": [],
   "source": [
    "y_pred = random_forest.predict(X_test)\n",
    "mean_squared_error(y_test, y_pred)"
   ]
  },
  {
   "cell_type": "code",
   "execution_count": null,
   "id": "56fc06b5",
   "metadata": {},
   "outputs": [],
   "source": [
    "r2_score(y_test, y_pred)"
   ]
  },
  {
   "cell_type": "code",
   "execution_count": null,
   "id": "4bfdeaf6",
   "metadata": {},
   "outputs": [],
   "source": [
    "differences = np.argmax([pred - test for pred, test in zip(y_pred, y_test)])\n",
    "differences"
   ]
  },
  {
   "cell_type": "code",
   "execution_count": null,
   "id": "3c15bf82",
   "metadata": {},
   "outputs": [],
   "source": [
    "from sklearn.neural_network import MLPRegressor\n",
    "\n",
    "mlp = MLPRegressor(random_state=random_state, max_iter=500)\n",
    "mlp.fit(X_train, y_train)"
   ]
  },
  {
   "cell_type": "code",
   "execution_count": null,
   "id": "7a011de9",
   "metadata": {},
   "outputs": [],
   "source": [
    "\n",
    "y_pred = mlp.predict(X_test)\n",
    "mean_squared_error(y_test, y_pred)"
   ]
  },
  {
   "cell_type": "code",
   "execution_count": null,
   "id": "0fe3d49d",
   "metadata": {},
   "outputs": [],
   "source": [
    "r2_score(y_test, y_pred)"
   ]
  },
  {
   "cell_type": "code",
   "execution_count": null,
   "id": "a472dd63",
   "metadata": {},
   "outputs": [],
   "source": [
    "differences = np.argmax([pred - test for pred, test in zip(y_pred, y_test)])\n",
    "differences"
   ]
  },
  {
   "cell_type": "code",
   "execution_count": null,
   "id": "9773fd32",
   "metadata": {},
   "outputs": [],
   "source": [
    "import lime\n",
    "import lime.lime_tabular"
   ]
  },
  {
   "cell_type": "code",
   "execution_count": null,
   "id": "ff89c5a7",
   "metadata": {},
   "outputs": [],
   "source": [
    "explainer = lime.lime_tabular.LimeTabularExplainer(\n",
    "    train,\n",
    "    feature_names=boston.feature_names,\n",
    "    class_names=[\"price\"],\n",
    "    categorical_features=categorical_features,\n",
    "    verbose=True,\n",
    "    mode=\"regression\",\n",
    ")"
   ]
  },
  {
   "cell_type": "code",
   "execution_count": null,
   "id": "75a3476c",
   "metadata": {},
   "outputs": [],
   "source": [
    "i = 25\n",
    "exp = explainer.explain_instance(test[i], rf.predict, num_features=5)"
   ]
  },
  {
   "cell_type": "code",
   "execution_count": null,
   "id": "3ac4d16f",
   "metadata": {},
   "outputs": [],
   "source": [
    "exp.show_in_notebook(show_table=True)"
   ]
  }
 ],
 "metadata": {
  "jupytext": {
   "formats": "ipynb,py:hydrogen"
  },
  "kernelspec": {
   "display_name": "Python 3 (ipykernel)",
   "language": "python",
   "name": "python3"
  }
 },
 "nbformat": 4,
 "nbformat_minor": 5
}
