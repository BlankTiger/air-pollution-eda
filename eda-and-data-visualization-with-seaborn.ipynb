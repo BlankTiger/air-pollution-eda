{
 "cells": [
  {
   "cell_type": "markdown",
   "metadata": {
    "_uuid": "135bb935df95d60c07f3e85a04d3742134f97152"
   },
   "source": [
    "**<h1>INTRODUCTION</h1>**\n",
    "I visualized the World Happiness Report data on this kernel with seaborn.\n",
    "* Peek at the Data\n",
    "[<br>Explanation of Features</br>](#1)\n",
    "* happiness rate of each region\n",
    "  * [Bar Plot](#2)\n",
    "  * [Point Plot](#3)\n",
    "  * [Joint Plot](#4)\n",
    "  * [Pie Chart](#5)\n",
    "  * [Lm Plot](#6)\n",
    "  * [Kde Plot](#7)\n",
    "  * [Violin Plot](#8)\n",
    "  * [Heatmap](#9)\n",
    "  * [Box Plot](#10)\n",
    "  * [Swarm Plot](#11)\n",
    "  * [Pair Plot](#12)\n",
    "  * [Count Plot](#13)  \n",
    "* [Rare Visualization Tool](#14)\n",
    "  * Parallel Plot"
   ]
  },
  {
   "cell_type": "code",
   "execution_count": 4,
   "metadata": {
    "_cell_guid": "b1076dfc-b9ad-4769-8c92-a6c4dae69d19",
    "_uuid": "8f2839f25d086af736a60e9eeb907d3b93b6e0e5"
   },
   "outputs": [
    {
     "ename": "ModuleNotFoundError",
     "evalue": "No module named 'pandas.tools'",
     "output_type": "error",
     "traceback": [
      "\u001b[0;31m---------------------------------------------------------------------------\u001b[0m",
      "\u001b[0;31mModuleNotFoundError\u001b[0m                       Traceback (most recent call last)",
      "Cell \u001b[0;32mIn[4], line 13\u001b[0m\n\u001b[1;32m     10\u001b[0m \u001b[38;5;28;01mimport\u001b[39;00m \u001b[38;5;21;01mwarnings\u001b[39;00m            \n\u001b[1;32m     11\u001b[0m warnings\u001b[38;5;241m.\u001b[39mfilterwarnings(\u001b[38;5;124m\"\u001b[39m\u001b[38;5;124mignore\u001b[39m\u001b[38;5;124m\"\u001b[39m) \n\u001b[0;32m---> 13\u001b[0m \u001b[38;5;28;01mfrom\u001b[39;00m \u001b[38;5;21;01mpandas\u001b[39;00m\u001b[38;5;21;01m.\u001b[39;00m\u001b[38;5;21;01mtools\u001b[39;00m\u001b[38;5;21;01m.\u001b[39;00m\u001b[38;5;21;01mplotting\u001b[39;00m \u001b[38;5;28;01mimport\u001b[39;00m parallel_coordinates\n\u001b[1;32m     15\u001b[0m \u001b[38;5;66;03m# Input data files are available in the \"../input/\" directory.\u001b[39;00m\n\u001b[1;32m     16\u001b[0m \u001b[38;5;66;03m# For example, running this (by clicking run or pressing Shift+Enter) will list the files in the input directory\u001b[39;00m\n\u001b[1;32m     18\u001b[0m \u001b[38;5;28;01mimport\u001b[39;00m \u001b[38;5;21;01mos\u001b[39;00m\n",
      "\u001b[0;31mModuleNotFoundError\u001b[0m: No module named 'pandas.tools'"
     ]
    }
   ],
   "source": [
    "# This Python 3 environment comes with many helpful analytics libraries installed\n",
    "# It is defined by the kaggle/python docker image: https://github.com/kaggle/docker-python\n",
    "# For example, here's several helpful packages to load in \n",
    "\n",
    "import numpy as np # linear algebra\n",
    "import pandas as pd # data processing, CSV file I/O (e.g. pd.read_csv)\n",
    "import seaborn as sns #for data visualization\n",
    "import matplotlib.pyplot as plt  #for data visualization\n",
    "\n",
    "import warnings            \n",
    "warnings.filterwarnings(\"ignore\") \n",
    "\n",
    "from pandas.tools.plotting import parallel_coordinates\n",
    "\n",
    "# Input data files are available in the \"../input/\" directory.\n",
    "# For example, running this (by clicking run or pressing Shift+Enter) will list the files in the input directory\n",
    "\n",
    "import os\n",
    "print(os.listdir(\"data/\"))\n",
    "\n",
    "# Any results you write to the current directory are saved as output."
   ]
  },
  {
   "cell_type": "markdown",
   "metadata": {
    "_uuid": "81f4986cfb12e38ad4ce50ab2044125b8a53e5d9"
   },
   "source": [
    "<a id=1></a>\n",
    "**<h1>Explanation of Features</h1>**\n",
    "* **Country** : Name of the country.\n",
    "* **Region** : Region the country belongs to.\n",
    "* **Happiness Rank** : Rank of the country based on the Happiness Score.\n",
    "* **Happiness Score** : A metric measured in 2015 by asking the sampled people the question: \"How would you rate your happiness on a scale of 0 to 10 where 10 is the happiest.\"\n",
    "* **Economy** : real GDP per capita\n",
    "* **Family** : social support\n",
    "* **Health**  healthy life expectancy\n",
    "* **Freedom** : freedom to make life choices\n",
    "* **Trust** : perceptions of corruption\n",
    "* **Generosity** : perceptions of generosity\n",
    "* **Dystopia** : each country is compared against a hypothetical nation that represents the lowest national averages for each key variable and is, along with residual error, used as a regression benchmark"
   ]
  },
  {
   "cell_type": "code",
   "execution_count": null,
   "metadata": {
    "_cell_guid": "79c7e3d0-c299-4dcb-8224-4455121ee9b0",
    "_uuid": "d629ff2d2480ee46fbb7e2d37f6b5fab8052498a"
   },
   "outputs": [],
   "source": [
    "#load data from csv file\n",
    "data_2015=pd.read_csv('data/2015.csv')\n",
    "data_2016=pd.read_csv('data/2016.csv')\n",
    "data_2017=pd.read_csv('data/2017.csv')\n",
    "#columns name change\n",
    "data_2015.columns=[each.split()[0] if(len(each.split())>2) else each.replace(\" \",\"_\") for each in data_2015.columns]\n",
    "data_2016.columns=[each.split()[0] if(len(each.split())>2) else each.replace(\" \",\"_\") for each in data_2016.columns]\n",
    "data_2017.columns=[each.replace(\".\",\" \") for each in data_2017.columns]\n",
    "data_2017.columns=[each.split()[0] if(len(each.split())>2) else each.replace(\" \",\"_\") for each in data_2017.columns]\n",
    "\n"
   ]
  },
  {
   "cell_type": "code",
   "execution_count": null,
   "metadata": {
    "_uuid": "211df99386585c22aca871177321c0b1ebaebe43"
   },
   "outputs": [],
   "source": [
    "data_2015.head()"
   ]
  },
  {
   "cell_type": "code",
   "execution_count": null,
   "metadata": {
    "_uuid": "dca20ad05f1043f48059677a065f24dc3f3152d9"
   },
   "outputs": [],
   "source": [
    "#getting an overview of our data\n",
    "data_2015.info()"
   ]
  },
  {
   "cell_type": "markdown",
   "metadata": {
    "_uuid": "5084e660003bd73b252982515c54741f7af2bd69"
   },
   "source": [
    "* We look at the type of happiness score and do not need to change the type because it is a float type. \n",
    "* Also there is no missing data in our data. Let's check if there is missing data"
   ]
  },
  {
   "cell_type": "code",
   "execution_count": null,
   "metadata": {
    "_uuid": "567049c92d8b3361c1dbbaf1052c325645ad3e9a"
   },
   "outputs": [],
   "source": [
    "print(\"Are There Missing Data? :\",data_2015.isnull().any().any())\n",
    "print(data_2015.isnull().sum())"
   ]
  },
  {
   "cell_type": "markdown",
   "metadata": {
    "_uuid": "c5f391a76048807a418bddf98002fff75d1c30f5"
   },
   "source": [
    "There is no missing data in our dataset, but it can be meaningless data. Let's see if there's meaningless data for happiness score.\n",
    "* We have not seen meaningless data for happiness score. It is good thing for us."
   ]
  },
  {
   "cell_type": "code",
   "execution_count": null,
   "metadata": {
    "_uuid": "3425df0e572cb1d1e1c69fddd6368c42e30f9b2d"
   },
   "outputs": [],
   "source": [
    "#data_2015[\"Happiness_Score\"].value_counts()"
   ]
  },
  {
   "cell_type": "code",
   "execution_count": null,
   "metadata": {
    "_uuid": "867ab3279debf92221f174c4bc90a1632487b320"
   },
   "outputs": [],
   "source": [
    "#we found out how many hospital country in our data\n",
    "print(\"\\n\\nRegion in Dataset:\\n\")\n",
    "print(\"There are {} different values\\n\".format(len(data_2015.Region.unique())))\n",
    "print(data_2015.Region.unique())"
   ]
  },
  {
   "cell_type": "markdown",
   "metadata": {
    "_uuid": "3d86abe788abe6a1a69cda864b4a3c4a6512c5fc"
   },
   "source": [
    "* We found unique region names in our dataset and we calculated the happiness rate according to the regions and created a dataframe in descending order."
   ]
  },
  {
   "cell_type": "code",
   "execution_count": null,
   "metadata": {
    "_uuid": "b9979980926783d2e33856183cb11b87232023e5"
   },
   "outputs": [],
   "source": [
    "region_lists=list(data_2015['Region'].unique())\n",
    "region_happiness_ratio=[]\n",
    "for each in region_lists:\n",
    "    region=data_2015[data_2015['Region']==each]\n",
    "    region_happiness_rate=sum(region.Happiness_Score)/len(region)\n",
    "    region_happiness_ratio.append(region_happiness_rate)\n",
    "    \n",
    "data=pd.DataFrame({'region':region_lists,'region_happiness_ratio':region_happiness_ratio})\n",
    "new_index=(data['region_happiness_ratio'].sort_values(ascending=False)).index.values\n",
    "sorted_data = data.reindex(new_index)\n",
    "\n",
    "sorted_data"
   ]
  },
  {
   "cell_type": "markdown",
   "metadata": {
    "_uuid": "752275ec0fbbdc80a96c5fa572785eaad333880a"
   },
   "source": [
    "<a id=2></a>\n",
    "**<h1>Bar Plot</h1>**\n",
    "What are the happiest regions of the world in 2015?\n",
    "* We have interpreted the answer of the question by visualizing it."
   ]
  },
  {
   "cell_type": "code",
   "execution_count": null,
   "metadata": {
    "_uuid": "4f5154a9baebce556f305662dcc37a254f89a655"
   },
   "outputs": [],
   "source": [
    "#Visualization\n",
    "#Create a new figure and make the size (12,10)\n",
    "plt.figure(figsize=(12,10))\n",
    "sns.barplot(x=sorted_data['region'], y=sorted_data['region_happiness_ratio'],palette=sns.cubehelix_palette(len(sorted_data['region'])))\n",
    "# Place the region names at a 90-degree angle.\n",
    "plt.xticks(rotation= 90)\n",
    "plt.xlabel('Region')\n",
    "plt.ylabel('Region Happiness Ratio')\n",
    "plt.title('Happiness rate for regions')\n",
    "plt.show()"
   ]
  },
  {
   "cell_type": "markdown",
   "metadata": {
    "_uuid": "e32a3bdd3fc1d0cacdcffde1d213b09a9e49bd85"
   },
   "source": [
    "According to the region, what is the effect of the economy on the happiness score?\n",
    "* I have interpreted the question"
   ]
  },
  {
   "cell_type": "code",
   "execution_count": null,
   "metadata": {
    "_uuid": "df76ba318f575682704f20d25caca89ff4d933e1"
   },
   "outputs": [],
   "source": [
    "#meaningless data control\n",
    "#data_2015[\"Economy\"].value_counts()"
   ]
  },
  {
   "cell_type": "code",
   "execution_count": null,
   "metadata": {
    "_uuid": "a95bff9b3ab04832739932996426ad7be93e28e4"
   },
   "outputs": [],
   "source": [
    "region_lists=list(data_2015['Region'].unique())\n",
    "region_economy_ratio=[]\n",
    "for each in region_lists:\n",
    "    region=data_2015[data_2015['Region']==each]\n",
    "    region_economy_rate=sum(region.Economy)/len(region)\n",
    "    region_economy_ratio.append(region_economy_rate)\n",
    "    \n",
    "data_economy=pd.DataFrame({'region':region_lists,'region_economy_ratio':region_economy_ratio})\n",
    "new_index_economy=(data_economy['region_economy_ratio'].sort_values(ascending=True)).index.values\n",
    "sorted_data_economy = data_economy.reindex(new_index_economy)\n",
    "sorted_data_economy.head()"
   ]
  },
  {
   "cell_type": "code",
   "execution_count": null,
   "metadata": {
    "_uuid": "0e57dfae7b3d9c569245a1ef23640bd8ee54d594"
   },
   "outputs": [],
   "source": [
    "#Visualization\n",
    "#Create a new figure and make the size (12,10)\n",
    "f,ax1 = plt.subplots(figsize =(12,10))\n",
    "sns.barplot(x=sorted_data_economy['region'], y=sorted_data_economy['region_economy_ratio'],palette=\"rocket\", ax=ax1)\n",
    "# Place the region names at a 90-degree angle.\n",
    "plt.xticks(rotation= 90)\n",
    "plt.xlabel('Region')\n",
    "plt.ylabel('Region Economy Ratio')\n",
    "plt.title('Economy rate for regions')\n",
    "plt.show()"
   ]
  },
  {
   "cell_type": "markdown",
   "metadata": {
    "_uuid": "48b2748ed84214d0f900daebac07e1ba32699b85"
   },
   "source": [
    "* What is the ratio of the factors affecting the Happiness Score according to the regions?"
   ]
  },
  {
   "cell_type": "code",
   "execution_count": null,
   "metadata": {
    "_uuid": "08a3433e1d4707d52510440be5b4b78c29e2db5f"
   },
   "outputs": [],
   "source": [
    "#Horizontal bar plot\n",
    "region_lists=list(data_2015['Region'].unique())\n",
    "share_economy=[]\n",
    "share_family=[]\n",
    "share_health=[]\n",
    "share_freedom=[]\n",
    "share_trust=[]\n",
    "for each in region_lists:\n",
    "    region=data_2015[data_2015['Region']==each]\n",
    "    share_economy.append(sum(region.Economy)/len(region))\n",
    "    share_family.append(sum(region.Family)/len(region))\n",
    "    share_health.append(sum(region.Health)/len(region))\n",
    "    share_freedom.append(sum(region.Freedom)/len(region))\n",
    "    share_trust.append(sum(region.Trust)/len(region))\n",
    "#Visualization\n",
    "f,ax = plt.subplots(figsize = (9,5))\n",
    "sns.set_color_codes(\"pastel\")\n",
    "sns.barplot(x=share_economy,y=region_lists,color='g',label=\"Economy\")\n",
    "sns.barplot(x=share_family,y=region_lists,color='b',label=\"Family\")\n",
    "sns.barplot(x=share_health,y=region_lists,color='c',label=\"Health\")\n",
    "sns.barplot(x=share_freedom,y=region_lists,color='y',label=\"Freedom\")\n",
    "sns.barplot(x=share_trust,y=region_lists,color='r',label=\"Trust\")\n",
    "ax.legend(loc=\"lower right\",frameon = True)\n",
    "ax.set(xlabel='Percentage of Region', ylabel='Region',title = \"Factors affecting happiness score\")\n",
    "plt.show()"
   ]
  },
  {
   "cell_type": "markdown",
   "metadata": {
    "_uuid": "3147ee2f86005b62d6aca42e140d2cf7ef9cd9d5"
   },
   "source": [
    "<a id=2></a>\n",
    "**<h1>Point Plot</h1>**\n",
    "* The rate of happiness score and the rate of economy affecting happiness score"
   ]
  },
  {
   "cell_type": "code",
   "execution_count": null,
   "metadata": {
    "_uuid": "7836eb9562edcd81fdcfe275e091f5c4de7c96e0"
   },
   "outputs": [],
   "source": [
    "sorted_data['region_happiness_ratio']=sorted_data['region_happiness_ratio']/max(sorted_data['region_happiness_ratio'])\n",
    "sorted_data_economy['region_economy_ratio']=sorted_data_economy['region_economy_ratio']/max(sorted_data_economy['region_economy_ratio'])\n",
    "\n",
    "data=pd.concat([sorted_data,sorted_data_economy['region_economy_ratio']],axis=1)\n",
    "data.sort_values('region_happiness_ratio',inplace=True)\n",
    "\n",
    "#Visualization\n",
    "f,ax1 = plt.subplots(figsize =(20,10))\n",
    "sns.pointplot(x='region',y='region_happiness_ratio',data=data,color='lime',alpha=0.8)\n",
    "sns.pointplot(x='region',y='region_economy_ratio',data=data,color='red',alpha=0.8)\n",
    "plt.text(7.55,0.6,'happiness score ratio',color='red',fontsize = 17,style = 'italic')\n",
    "plt.text(7.55,0.55,'economy ratio',color='lime',fontsize = 18,style = 'italic')\n",
    "plt.xticks(rotation=45)\n",
    "plt.xlabel('Region',fontsize = 15,color='blue')\n",
    "plt.ylabel('Values',fontsize = 15,color='blue')\n",
    "plt.title('Happiness Score  VS  Economy Rate',fontsize = 20,color='blue')\n",
    "plt.grid()\n",
    "plt.show()"
   ]
  },
  {
   "cell_type": "markdown",
   "metadata": {
    "_uuid": "404886dd627bae74f3f693063d22d6bcef638cc5"
   },
   "source": [
    "<a id=4></a>\n",
    "**<h1>Joint Plot</h1>**\n",
    "* Visualization of the percentage of happiness according to regions and the rate of family affecting it.\n",
    "* With the joint plot we can see the correlation between the two features."
   ]
  },
  {
   "cell_type": "code",
   "execution_count": null,
   "metadata": {
    "_uuid": "6493acb84b805d3c3d08ba3d9775fd91e0796706"
   },
   "outputs": [],
   "source": [
    "dataframe=pd.pivot_table(data_2015, index = 'Region', values=[\"Happiness_Score\",\"Family\"])\n",
    "#to normalize\n",
    "dataframe[\"Happiness_Score\"]=dataframe[\"Happiness_Score\"]/max(dataframe[\"Happiness_Score\"])\n",
    "dataframe[\"Family\"]=dataframe[\"Family\"]/max(dataframe[\"Family\"])\n",
    "sns.jointplot(dataframe.Family,dataframe.Happiness_Score,kind=\"kde\",height=7,space=0)\n",
    "plt.savefig('graph.png')\n",
    "plt.show()"
   ]
  },
  {
   "cell_type": "markdown",
   "metadata": {
    "_uuid": "fc314414525c3daddd22255f0af2fb9c7c2e8de5"
   },
   "source": [
    "* We find that there is a positive correlation between family and happiness score."
   ]
  },
  {
   "cell_type": "code",
   "execution_count": null,
   "metadata": {
    "_uuid": "bf970b8968133d6ab955c854cdd51696a9df1f9b"
   },
   "outputs": [],
   "source": [
    "#Linear regression with marginal distributions\n",
    "g = sns.jointplot(\"Family\", \"Happiness_Score\", data=dataframe,height=5,kind=\"reg\",ratio=3, color=\"r\")"
   ]
  },
  {
   "cell_type": "markdown",
   "metadata": {
    "_uuid": "724941d7db47ad32afcb3e17ebefa772d44ca6a7"
   },
   "source": [
    "<a id=5></a>\n",
    "**<h1>Pie Chart</h1>**\n",
    "* According to the year we can visually see the percentage of happiness score."
   ]
  },
  {
   "cell_type": "code",
   "execution_count": null,
   "metadata": {
    "_uuid": "56e2c734eaaf74c9047733c7dde6e3056f5a1897"
   },
   "outputs": [],
   "source": [
    "#broadcasting\n",
    "data_2015['Year']=2015\n",
    "data_2016['Year']=2016\n",
    "data_2017['Year']=2017\n",
    "#concating\n",
    "data_concat=pd.concat([data_2015,data_2016,data_2017],axis=0,sort = False)\n",
    "\n",
    "df=pd.pivot_table(data_concat, index = 'Year', values=\"Happiness_Score\")\n",
    "df"
   ]
  },
  {
   "cell_type": "markdown",
   "metadata": {
    "_uuid": "a7ef411ab33f47958084b44a1774f69bd1a26198"
   },
   "source": [
    "* The values displayed in the Happiness Score column are the annual average for all countries."
   ]
  },
  {
   "cell_type": "code",
   "execution_count": null,
   "metadata": {
    "_uuid": "2528e6c4c128d28f55559ba2322b0e02dc4a55df"
   },
   "outputs": [],
   "source": [
    "#pie chart\n",
    "df.dropna(inplace = True)\n",
    "labels =df.index\n",
    "colors = ['cyan','lime','pink']\n",
    "explode = [0,0,0]\n",
    "sizes = df.values\n",
    "\n",
    "# visual\n",
    "plt.figure(figsize = (7,7))\n",
    "plt.pie(sizes, explode=explode, labels=labels, colors=colors, autopct='%1.1f%%')\n",
    "plt.title('Percentage of year score by region',color = 'purple',fontsize = 15)\n",
    "plt.show()"
   ]
  },
  {
   "cell_type": "markdown",
   "metadata": {
    "_uuid": "af4e7f0fde4a57e9de22fec9fe72f405de1d2b2a"
   },
   "source": [
    "<a id=6></a>\n",
    "**<h1>Lm Plot</h1>**\n",
    "* We used Lm Plot to see the results of a linear regression in data set."
   ]
  },
  {
   "cell_type": "code",
   "execution_count": null,
   "metadata": {
    "_uuid": "2964663bc0957740fdea6f8e46ed18e7e44d9cb2"
   },
   "outputs": [],
   "source": [
    "dataframe2=pd.pivot_table(data_2015, index = 'Region', values=[\"Happiness_Score\",\"Trust\"])\n",
    "#to normalize\n",
    "dataframe2[\"Happiness_Score\"]=dataframe2[\"Happiness_Score\"]/max(dataframe2[\"Happiness_Score\"])\n",
    "dataframe2[\"Trust\"]=dataframe2[\"Trust\"]/max(dataframe2[\"Trust\"])\n",
    "sns.lmplot(\"Trust\",\"Happiness_Score\",data=dataframe2)\n",
    "plt.show()"
   ]
  },
  {
   "cell_type": "markdown",
   "metadata": {
    "_uuid": "d6b48ae9b63d0874ca485b2945bcc5dd4f65489c"
   },
   "source": [
    "* As the perception of corruption decreases, we can say that happiness score also increases."
   ]
  },
  {
   "cell_type": "markdown",
   "metadata": {
    "_uuid": "ffb2d6fb1969c09c8f9b6e26aec4b7fa33cd3a99"
   },
   "source": [
    "<a id=7></a>\n",
    "**<h1>Kde Plot</h1>**\n",
    "* visualization with the score of happiness according to years and the value of freedom affecting it."
   ]
  },
  {
   "cell_type": "code",
   "execution_count": null,
   "metadata": {
    "_uuid": "683755b5f8dfb56f20807df580afa45382e3942a"
   },
   "outputs": [],
   "source": [
    "dataframe3=pd.pivot_table(data_concat, index = 'Year', values=[\"Happiness_Score\",\"Freedom\"])\n",
    "#to normalize\n",
    "dataframe3[\"Happiness_Score\"]=dataframe3[\"Happiness_Score\"]/max(dataframe3[\"Happiness_Score\"])\n",
    "dataframe3[\"Freedom\"]=dataframe3[\"Freedom\"]/max(dataframe3[\"Freedom\"])\n",
    "sns.kdeplot(dataframe3.Freedom,dataframe3.Happiness_Score,shade=False,cut=5)\n",
    "plt.show()"
   ]
  },
  {
   "cell_type": "markdown",
   "metadata": {
    "_uuid": "f8a0eaec469d8d189351378c8b64552ca4844ad2"
   },
   "source": [
    "<a id=8></a>\n",
    "**<h1>Violin Plot</h1>**\n",
    "* The violin plot does not look at the correlation between the two features. It looks at the distribution of the values within the features."
   ]
  },
  {
   "cell_type": "code",
   "execution_count": null,
   "metadata": {
    "_uuid": "3eb63e0f95be640626596aa0e5e631a396026b66"
   },
   "outputs": [],
   "source": [
    "pal=sns.cubehelix_palette(2,rot=.5,dark=.3)\n",
    "sns.violinplot(data=dataframe2, palette=pal, inner=\"points\")\n",
    "plt.show()"
   ]
  },
  {
   "cell_type": "markdown",
   "metadata": {
    "_uuid": "77a35f8da4f79818a657f2d148137d50ebeee37a"
   },
   "source": [
    "<a id=9></a>\n",
    "**<h1>Heatmap</h1>**\n",
    "* We can visualize the correlation between HeatMap and the features in our dataset."
   ]
  },
  {
   "cell_type": "code",
   "execution_count": null,
   "metadata": {
    "_uuid": "6c13ff0534fec049d72daa1c37c1d03701a86064"
   },
   "outputs": [],
   "source": [
    "f,ax=plt.subplots(figsize=(8,8))\n",
    "sns.heatmap(data_concat.corr(),annot=True,linewidth=.5,fmt='.1f',ax=ax)\n",
    "plt.show()"
   ]
  },
  {
   "cell_type": "markdown",
   "metadata": {
    "_uuid": "dee4ecfb9aeef7482280d5ab7f10b8684829ab4b"
   },
   "source": [
    "<a id=10></a>\n",
    "**<h1>Box Plot</h1>**\n",
    "* We can see the percentage of happiness score according to years by box plot."
   ]
  },
  {
   "cell_type": "code",
   "execution_count": null,
   "metadata": {
    "_uuid": "17ab204610f13b3969eb6259fca47e96ba3103b7"
   },
   "outputs": [],
   "source": [
    "f,ax = plt.subplots(figsize =(20,10))\n",
    "sns.boxplot(x=\"Year\" , y=\"Happiness_Score\", hue=\"Region\",data=data_concat,palette=\"PRGn\",ax=ax)\n",
    "plt.show()"
   ]
  },
  {
   "cell_type": "markdown",
   "metadata": {
    "_uuid": "e73a3930d08de42f34fb7ace92d2358df6798190"
   },
   "source": [
    "* The year 2017 seems to be empty because in our 2017 year, the regions are numbered instead of region names."
   ]
  },
  {
   "cell_type": "markdown",
   "metadata": {
    "_uuid": "4053ebe18438ff1f0b16de5bf6bda7d14d939092"
   },
   "source": [
    "<a id=11></a>\n",
    "**<h1>Swarm Plot</h1>**\n",
    "* We can see the rate of happiness according to years by swarm plot."
   ]
  },
  {
   "cell_type": "code",
   "execution_count": null,
   "metadata": {
    "_uuid": "5107c20ce8bd222cfcf556e18e303b2f15c63403"
   },
   "outputs": [],
   "source": [
    "f,ax = plt.subplots(figsize =(20,10))\n",
    "sns.swarmplot(x=\"Year\" , y=\"Happiness_Score\", hue=\"Region\",data=data_concat,ax=ax)\n",
    "plt.show()"
   ]
  },
  {
   "cell_type": "markdown",
   "metadata": {
    "_uuid": "67b73da25df07913b29e8f9ff6be38cfc4a1c1fb"
   },
   "source": [
    "<a id=12></a>\n",
    "**<h1>Pair Plot</h1>**\n",
    "* We can interpret the relationship between the happiness score rate and the economy visually with the pair plot.\n",
    "      As the happiness score increases, we can say that the economy is increasing or it is also possible to say the opposite."
   ]
  },
  {
   "cell_type": "code",
   "execution_count": null,
   "metadata": {
    "_uuid": "42f59b988294cb3283a2464844cae35c88cce3ee"
   },
   "outputs": [],
   "source": [
    "#Pair Plot\n",
    "sns.pairplot(data)\n",
    "plt.show()"
   ]
  },
  {
   "cell_type": "markdown",
   "metadata": {
    "_uuid": "f79ea6c9cf3abf598e5ae07b8e2a1fb56f02feeb"
   },
   "source": [
    "<a id=13></a>\n",
    "**<h1>Count Plot</h1>**\n",
    "* We found the country numbers that the regions contain."
   ]
  },
  {
   "cell_type": "code",
   "execution_count": null,
   "metadata": {
    "_uuid": "5ac96983771b7b70222f17d2a87544f6cde6019c"
   },
   "outputs": [],
   "source": [
    "f,ax = plt.subplots(figsize =(10,10))\n",
    "sns.countplot(data_concat.Region,ax=ax)\n",
    "plt.xticks(rotation= 45)\n",
    "plt.show()"
   ]
  },
  {
   "cell_type": "markdown",
   "metadata": {
    "_uuid": "2acfdcc15be5ce86146635f408fa2234221acef9"
   },
   "source": [
    "<a id=14></a>\n",
    "**<h1>Rare Visualization</h1>**\n",
    "* **Parallel Plot**\n",
    " Parallel plot allow to compare the feature of several individual observations on a set of numerical variables."
   ]
  },
  {
   "cell_type": "code",
   "execution_count": null,
   "metadata": {
    "_uuid": "8f94b30110e8c1fa33aeee6480b22299475048b5"
   },
   "outputs": [],
   "source": [
    "dataframe=data_concat.loc[:,[\"Year\",\"Happiness_Score\",\"Economy\",\"Family\",\"Health\"]]\n",
    "# Make the plot\n",
    "plt.figure(figsize=(15,10))\n",
    "parallel_coordinates(dataframe, 'Year', colormap=plt.get_cmap(\"Set1\"))\n",
    "plt.title(\" visualization according to year features (2016, 2017, 2018)\")\n",
    "plt.xlabel(\"Features of data set\")\n",
    "plt.savefig('graph.png')\n",
    "plt.show()"
   ]
  },
  {
   "cell_type": "markdown",
   "metadata": {
    "_uuid": "00c8cc265286e13b274bf311e2d0b5d076095979"
   },
   "source": [
    "* Parallel plots tell us that it is not logical to use these properties for classification."
   ]
  }
 ],
 "metadata": {
  "kernelspec": {
   "display_name": "Python 3 (ipykernel)",
   "language": "python",
   "name": "python3"
  },
  "language_info": {
   "codemirror_mode": {
    "name": "ipython",
    "version": 3
   },
   "file_extension": ".py",
   "mimetype": "text/x-python",
   "name": "python",
   "nbconvert_exporter": "python",
   "pygments_lexer": "ipython3",
   "version": "3.11.4"
  }
 },
 "nbformat": 4,
 "nbformat_minor": 4
}
